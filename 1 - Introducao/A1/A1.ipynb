{
 "cells": [
  {
   "cell_type": "markdown",
   "metadata": {},
   "source": [
    "# Introdução ao Python"
   ]
  },
  {
   "cell_type": "code",
   "execution_count": null,
   "metadata": {},
   "outputs": [],
   "source": [
    "\"\"\"\n",
    "Gustavo Henrique\n",
    "10/06/2024\n",
    "Arquivo com os primeiros comandos em pyhton\n",
    "\"\"\"\n",
    "\n",
    "#Primeiro Hello World!\n",
    "print(\"Hello World\")"
   ]
  },
  {
   "cell_type": "code",
   "execution_count": null,
   "metadata": {},
   "outputs": [],
   "source": [
    "#Tipos de Dados no Pyhton\n",
    "numero_Inteiro = 10 \n",
    "numero_decimal = 10.5\n",
    "texto = 'Python'\n",
    "\n",
    "print(type(numero_Inteiro))\n",
    "print(type(numero_decimal + numero_decimal))\n",
    "print(type(texto + texto))\n"
   ]
  },
  {
   "cell_type": "code",
   "execution_count": null,
   "metadata": {},
   "outputs": [],
   "source": [
    "\n",
    "#Usando Input\n",
    "nome = input('Digite o seu Nome')\n",
    "idade = input(\"Digite sua Idade\")\n",
    "\n",
    "\n",
    "print('Olá ' + nome + \" tua idade é \" + idade)\n"
   ]
  },
  {
   "cell_type": "code",
   "execution_count": null,
   "metadata": {},
   "outputs": [],
   "source": [
    "#Slice String Em Python\n",
    "fruta = 'Abacate'\n",
    "#        0123467  \n",
    "#        7654321       \n",
    "\n",
    "#Pegando apenas um indice da string\n",
    "print(fruta[2])\n",
    "\n",
    "#pegando um pedaço da string\n",
    "print(fruta[1:4])\n",
    "\n",
    "\n",
    "#pegando um pedaço da string\n",
    "print(fruta[-2])\n",
    "\n",
    "\n"
   ]
  },
  {
   "cell_type": "code",
   "execution_count": null,
   "metadata": {},
   "outputs": [],
   "source": [
    "#Pegando partyes de um decimal\n",
    "valor = 99.75\n",
    "\n",
    "valor = str(valor)\n",
    "\n",
    "print(valor[3:5])"
   ]
  },
  {
   "cell_type": "code",
   "execution_count": null,
   "metadata": {},
   "outputs": [],
   "source": [
    "#Usando ferramentas de string\n",
    "frase = 'Eu aprendi puthon na Motim'\n",
    "\n",
    "\n",
    "print(frase)"
   ]
  },
  {
   "cell_type": "code",
   "execution_count": null,
   "metadata": {},
   "outputs": [],
   "source": [
    "#Colocando a String em MAIUSCULO\n",
    "print(frase.upper())"
   ]
  },
  {
   "cell_type": "code",
   "execution_count": null,
   "metadata": {},
   "outputs": [],
   "source": [
    "#Colocando a String em Minusculo\n",
    "print(frase.lower())"
   ]
  },
  {
   "cell_type": "code",
   "execution_count": null,
   "metadata": {},
   "outputs": [],
   "source": [
    "#Colocando a String em MAIUSCULO\n",
    "print(frase.capitalize())"
   ]
  },
  {
   "cell_type": "code",
   "execution_count": null,
   "metadata": {},
   "outputs": [],
   "source": [
    "#Colocando a String em MAIUSCULO\n",
    "#print(frase.capwords())"
   ]
  },
  {
   "cell_type": "code",
   "execution_count": null,
   "metadata": {},
   "outputs": [],
   "source": [
    "#Colocando a String em MAIUSCULO\n",
    "print(frase.swapcase())"
   ]
  },
  {
   "cell_type": "code",
   "execution_count": null,
   "metadata": {},
   "outputs": [],
   "source": [
    "nome = 'Gustavo Henrique'\n",
    "sobrenome = 'Pinheiro Santos'\n",
    "profissao = 'Programador'\n",
    "\n",
    "texto_formatado = f'O {nome} {sobrenome} e um excelente {profissao}'\n",
    "\n",
    "\n",
    "print(texto_formatado)\n",
    "\n"
   ]
  },
  {
   "cell_type": "markdown",
   "metadata": {},
   "source": [
    "### If Else"
   ]
  },
  {
   "cell_type": "code",
   "execution_count": null,
   "metadata": {},
   "outputs": [],
   "source": [
    "#If e Else\n",
    "n = 9 \n",
    "\n",
    "if(n > 10):    \n",
    "    print(\"Maior que 10\")\n",
    "elif(n == 10):\n",
    "    print(\"è 10\")\n",
    "else: \n",
    "    print(\"Menor que 10\")\n"
   ]
  },
  {
   "cell_type": "markdown",
   "metadata": {},
   "source": [
    "### Operadores Em Python "
   ]
  },
  {
   "cell_type": "markdown",
   "metadata": {},
   "source": [
    "Operador | Simbolo \n",
    "-------- | ---------\n",
    "Soma | + \n",
    "Subtracao | -\n",
    "Multiplicacao | *  \n",
    "Exponenciacao | **\n",
    "Divisao | /\n",
    "Divisao Inteira | //\n",
    "Resto | %\n"
   ]
  },
  {
   "cell_type": "code",
   "execution_count": null,
   "metadata": {},
   "outputs": [],
   "source": [
    "#Teste Exponenciacao\n",
    "a = 4**2\n",
    "\n",
    "print(a)"
   ]
  },
  {
   "cell_type": "markdown",
   "metadata": {},
   "source": [
    "### Loop\n",
    "\n",
    "for e while\n"
   ]
  },
  {
   "cell_type": "code",
   "execution_count": null,
   "metadata": {},
   "outputs": [],
   "source": [
    "#Laço For\n",
    "for n in range(5):\n",
    "    print(n)\n"
   ]
  },
  {
   "cell_type": "code",
   "execution_count": null,
   "metadata": {},
   "outputs": [],
   "source": [
    "#Laço While\n",
    "n = 1\n",
    "while n < 5:\n",
    "    print(n)\n",
    "    n = n + 1\n",
    "\n"
   ]
  },
  {
   "cell_type": "code",
   "execution_count": null,
   "metadata": {},
   "outputs": [],
   "source": [
    "#DRY Don't Repeat Yoursel \n",
    "\n",
    "numero1 = 20 \n",
    "\n",
    "numero2 = 25 \n",
    "\n",
    "print(numero1 + numero2)"
   ]
  },
  {
   "cell_type": "code",
   "execution_count": null,
   "metadata": {},
   "outputs": [],
   "source": [
    "#Criando a pprimeria função que soma 2 numeros\n",
    "\"\"\"\n",
    "def soma_dois_numeros():\n",
    "    numero1 = 10 \n",
    "    numero2 = 15 \n",
    "\n",
    "    print(numero1 + numero2)\n",
    "\"\"\"\n",
    "\n",
    "\n",
    "#Criando a pprimeria função que soma 2 numeros\n",
    "def soma_dois_numeros(numero1, numero2):\n",
    "    return numero1 + numero2\n",
    "    "
   ]
  },
  {
   "cell_type": "code",
   "execution_count": null,
   "metadata": {},
   "outputs": [],
   "source": [
    "#Criando uma função que soma N numeros\n",
    "def soma_numeros(*numeros):\n",
    "    resultado = 0 \n",
    "    for num in numeros:\n",
    "        resultado += num\n",
    "\n",
    "    return resultado\n",
    "\n",
    "\n",
    "\n",
    "soma_numeros(1,2,3,10)\n",
    "\n",
    "\n"
   ]
  },
  {
   "cell_type": "code",
   "execution_count": null,
   "metadata": {},
   "outputs": [],
   "source": [
    "#Função que aceita N argumentos\n",
    "def imprime_carro(**carro):\n",
    "    print(carro)\n",
    "    \n",
    "     \n",
    "\n",
    "\n",
    "\n",
    "imprime_carro(marca='VW', modelo='Gol', ano=2020)\n",
    "\n",
    "imprime_carro(marca='GM', modelo='S10', ano=2010)\n",
    "\n",
    "imprime_carro(marca='VW', modelo='Saverio')\n"
   ]
  },
  {
   "cell_type": "code",
   "execution_count": 59,
   "metadata": {},
   "outputs": [
    {
     "name": "stdout",
     "output_type": "stream",
     "text": [
      "Par\n",
      "Impar\n"
     ]
    }
   ],
   "source": [
    "#Faça uma função em python que receba um numero e imprime se é par ou impar\n",
    "\n",
    "def verifa_par_impar(numero):\n",
    "    if(numero % 2 == 0):\n",
    "        print(\"Par\")\n",
    "    else:\n",
    "        print(\"Impar\")\n",
    "\n",
    "\n",
    "verifa_par_impar(10)\n",
    "\n",
    "verifa_par_impar(11)\n"
   ]
  },
  {
   "cell_type": "markdown",
   "metadata": {},
   "source": [
    "## Listas"
   ]
  },
  {
   "cell_type": "code",
   "execution_count": 60,
   "metadata": {},
   "outputs": [],
   "source": [
    "#Armazena mais de uma informação em variaveis\n",
    "#Manter a sequencia do nosso registro"
   ]
  },
  {
   "cell_type": "code",
   "execution_count": 64,
   "metadata": {},
   "outputs": [
    {
     "name": "stdout",
     "output_type": "stream",
     "text": [
      "[2, 3, 4, 5, 10.5]\n"
     ]
    }
   ],
   "source": [
    "\n",
    "numeros = [2, 3, 4, 5, 10.5]\n",
    "\n",
    "\n",
    "print(numeros)"
   ]
  },
  {
   "cell_type": "code",
   "execution_count": 70,
   "metadata": {},
   "outputs": [
    {
     "name": "stdout",
     "output_type": "stream",
     "text": [
      "['Rio De Janeiro', 'São Paulo', 'BH']\n"
     ]
    }
   ],
   "source": [
    "cidade1 = 'Rio De Janeiro'\n",
    "cidade2 = 'São Paulo'\n",
    "cidade3 = 'BH'\n",
    "\n",
    "#print(cidade1, cidade1, cidade3)\n",
    "\n",
    "cidades = ['Rio De Janeiro', 'São Paulo', 'BH']\n",
    "\n",
    "print(cidades)\n",
    "\n"
   ]
  },
  {
   "cell_type": "code",
   "execution_count": 76,
   "metadata": {},
   "outputs": [
    {
     "name": "stdout",
     "output_type": "stream",
     "text": [
      "['Item 1', 'Item 2', 'Item 3', 'Item 4', 10, 20, 30, 40]\n",
      "None\n"
     ]
    }
   ],
   "source": [
    "#Concatenando Listas\n",
    "precos = [10,20,30,40]\n",
    "itens = ['Item 1', 'Item 2', 'Item 3', 'Item 4']\n",
    "\n",
    "\n",
    "print(itens + precos)\n",
    "\n",
    "print(itens.extend(precos))\n",
    "\n",
    "\n",
    "#print(precos)\n",
    "\n",
    "#print(itens)"
   ]
  },
  {
   "cell_type": "code",
   "execution_count": 79,
   "metadata": {},
   "outputs": [
    {
     "name": "stdout",
     "output_type": "stream",
     "text": [
      "['Item 3', 'Item 4']\n"
     ]
    }
   ],
   "source": [
    "#Slice em Listas\n",
    "precos = [10,20,30,40]\n",
    "itens = ['Item 1', 'Item 2', 'Item 3', 'Item 4']\n",
    "\n",
    "\n",
    "print(itens[2:4])"
   ]
  },
  {
   "cell_type": "code",
   "execution_count": 82,
   "metadata": {},
   "outputs": [
    {
     "name": "stdout",
     "output_type": "stream",
     "text": [
      "O Valor do item é 10\n",
      "O Valor do item é 20\n",
      "O Valor do item é 30\n",
      "O Valor do item é 40\n"
     ]
    }
   ],
   "source": [
    "\n",
    "#For\n",
    "precos = [10,20,30,40]\n",
    "itens = ['Item 1', 'Item 2', 'Item 3', 'Item 4']\n",
    "\n",
    "\n",
    "for i in precos:\n",
    "    texto = f'O Valor do item é {i}'\n",
    "    print(texto)\n",
    "\n"
   ]
  },
  {
   "cell_type": "code",
   "execution_count": 84,
   "metadata": {},
   "outputs": [
    {
     "name": "stdout",
     "output_type": "stream",
     "text": [
      "aaa\n",
      "['aaa']\n"
     ]
    }
   ],
   "source": [
    "frutas = input('Digite os nomes das frutas separado por ,')\n",
    "\n",
    "print(frutas)\n",
    "\n",
    "frutas_lista = frutas.split(', ')\n",
    "\n",
    "print(frutas_lista)"
   ]
  },
  {
   "cell_type": "markdown",
   "metadata": {},
   "source": [
    "## Lambda Function"
   ]
  },
  {
   "cell_type": "code",
   "execution_count": 88,
   "metadata": {},
   "outputs": [
    {
     "name": "stdout",
     "output_type": "stream",
     "text": [
      "40\n"
     ]
    }
   ],
   "source": [
    "somar_numeros = lambda numero1, numero2 : numero1 + numero2\n",
    "\n",
    "print(somar_numeros(20,20))"
   ]
  },
  {
   "cell_type": "code",
   "execution_count": null,
   "metadata": {},
   "outputs": [],
   "source": []
  }
 ],
 "metadata": {
  "kernelspec": {
   "display_name": "Python 3",
   "language": "python",
   "name": "python3"
  },
  "language_info": {
   "codemirror_mode": {
    "name": "ipython",
    "version": 3
   },
   "file_extension": ".py",
   "mimetype": "text/x-python",
   "name": "python",
   "nbconvert_exporter": "python",
   "pygments_lexer": "ipython3",
   "version": "3.11.7"
  }
 },
 "nbformat": 4,
 "nbformat_minor": 2
}
