{
 "cells": [
  {
   "cell_type": "markdown",
   "metadata": {},
   "source": [
    "### ESTRUTURA DO PROJETO"
   ]
  },
  {
   "cell_type": "code",
   "execution_count": 2,
   "metadata": {},
   "outputs": [],
   "source": [
    "#PASSO 1 - Importar as bibliotecas necessárias\n",
    "#PASSO 2 - Percorrer todos os arquivos (planilhas) existentes dentro do diretorio\n",
    "#PASSO 3 - Importar todos os arquivos (planilhas) de vendas e unificá-las numa única tabela (DataFrame) no Pandas\n",
    "#PASSO 4 - Importar todos os arquivos (planilhas) de devoluções e unificá-las numa única tabela (DataFrame) no Pandas"
   ]
  },
  {
   "cell_type": "code",
   "execution_count": null,
   "metadata": {},
   "outputs": [],
   "source": []
  },
  {
   "cell_type": "markdown",
   "metadata": {},
   "source": [
    "### INDICADORES"
   ]
  },
  {
   "cell_type": "markdown",
   "metadata": {},
   "source": [
    "**1.0 - QUANTIDADE DE VENDAS LÍQUIDAS:**\n",
    "\n",
    "**Objetivo:** Identificar os 3 produtos e as 3 lojas que estão gerando mais vendas."
   ]
  },
  {
   "cell_type": "markdown",
   "metadata": {},
   "source": [
    "**1.1 - QUANTIDADE DE VENDAS BRUTAS:**\n",
    "\n",
    "**Objetivo:** Identificar os 3 produtos e as 3 lojas que estão gerando mais vendas."
   ]
  },
  {
   "cell_type": "markdown",
   "metadata": {},
   "source": [
    "**1.2 - QUANTIDADE DE DEVOLUÇÕES:**\n",
    "\n",
    "**Objetivo:** Identificar os 3 produtos e as 3 lojas que estão gerando mais devoluções."
   ]
  },
  {
   "cell_type": "markdown",
   "metadata": {},
   "source": [
    "**2.0 - ANÁLISE DE SAZONALIDADE:**\n",
    "\n",
    "**Objetivo:** Calcular a variação das vendas dos produtos por mês."
   ]
  },
  {
   "cell_type": "markdown",
   "metadata": {},
   "source": [
    "**2.1 - ANÁLISE DE FATURAMENTO TRIMESTRAL:**\n",
    "\n",
    "**Objetivo:** Calcular o faturamento trimestral do ano."
   ]
  }
 ],
 "metadata": {
  "kernelspec": {
   "display_name": "base",
   "language": "python",
   "name": "python3"
  },
  "language_info": {
   "codemirror_mode": {
    "name": "ipython",
    "version": 3
   },
   "file_extension": ".py",
   "mimetype": "text/x-python",
   "name": "python",
   "nbconvert_exporter": "python",
   "pygments_lexer": "ipython3",
   "version": "3.11.7"
  }
 },
 "nbformat": 4,
 "nbformat_minor": 2
}
