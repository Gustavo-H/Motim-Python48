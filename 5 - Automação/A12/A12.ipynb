{
 "cells": [
  {
   "cell_type": "markdown",
   "metadata": {},
   "source": [
    "Loop "
   ]
  },
  {
   "cell_type": "markdown",
   "metadata": {},
   "source": [
    "Para Gerar exe de arquivo python > pip install auto-py-to-exe\n",
    "\n",
    "https://pypi.org/project/auto-py-to-exe/"
   ]
  },
  {
   "cell_type": "code",
   "execution_count": null,
   "metadata": {},
   "outputs": [],
   "source": [
    "from pathlib import Path\n",
    "import os\n",
    "import csv\n",
    "import schedule \n",
    "import time \n",
    "\n",
    "def job():\n",
    "    main_folder = Path(os.getcwd())\n",
    "\n",
    "\n",
    "    dic_dados_csv = [\n",
    "        {'Nome': 'Alice', 'Idade': 28, 'Cidade': 'São Paulo', 'Profissão': 'Engenheira'},\n",
    "        {'Nome': 'Bruno', 'Idade': 35, 'Cidade': 'Rio de Janeiro', 'Profissão': 'Advogado'},\n",
    "        {'Nome': 'Carla', 'Idade': 23, 'Cidade': 'Belo Horizonte', 'Profissão': 'Designer'},\n",
    "        {'Nome': 'Daniel', 'Idade': 40, 'Cidade': 'Porto Alegre', 'Profissão': 'Médico'},\n",
    "        {'Nome': 'Eva', 'Idade': 30, 'Cidade': 'Curitiba', 'Profissão': 'Arquiteta'},\n",
    "        {'Nome': 'Fernando', 'Idade': 45, 'Cidade': 'Salvador', 'Profissão': 'Professor'},\n",
    "        {'Nome': 'Gabriela', 'Idade': 26, 'Cidade': 'Brasília', 'Profissão': 'Analista'},\n",
    "        {'Nome': 'Henrique', 'Idade': 32, 'Cidade': 'Fortaleza', 'Profissão': 'Desenvolvedor'},\n",
    "        {'Nome': 'Isabela', 'Idade': 29, 'Cidade': 'Manaus', 'Profissão': 'Consultora'},\n",
    "        {'Nome': 'Jorge', 'Idade': 50, 'Cidade': 'Recife', 'Profissão': 'Empresário'}\n",
    "    ]\n",
    "\n",
    "\n",
    "    CAMINHO_CSV = main_folder / 'csv' /  'csv.csv'\n",
    "\n",
    "\n",
    "    # Grava uma csv a partir de um dicionario\n",
    "    with open(CAMINHO_CSV, mode='w', newline='', encoding='utf-8') as arquivo:\n",
    "        # Nomes das colunas\n",
    "        colunas = dic_dados_csv[0].keys()\n",
    "        \n",
    "        # Criar o writer\n",
    "        escritor = csv.DictWriter(arquivo, fieldnames=colunas)\n",
    "        \n",
    "        # Escrever o cabeçalho\n",
    "        escritor.writeheader()\n",
    "        \n",
    "        # Escrever os dados\n",
    "        escritor.writerows(dic_dados_csv)\n",
    "\n",
    "\"\"\"\n",
    "    # Agendando tarefas com diferentes intervalos e horários\n",
    "    schedule.every(10).minutes.do(job)                              # Executa a cada 10 minutos\n",
    "    schedule.every().hour.do(job)                                   # Executa a cada hora\n",
    "    schedule.every().day.at(\"10:30\").do(job)                        # Executa diariamente às 10:30\n",
    "    schedule.every().monday.do(job)                                 # Executa toda segunda-feira\n",
    "    schedule.every().wednesday.at(\"13:15\").do(job)                  # Executa toda quarta-feira às 13:15\n",
    "    schedule.every().day.at(\"12:42\", \"Europe/Amsterdam\").do(job)    # Executa diariamente às 12:42 (usando fuso horário Europe/Amsterdam)\n",
    "    schedule.every().day.at(\"12:42\").do(job)                        # Executa diariamente às 12:42 (usando fuso horário Seu PC)\n",
    "    schedule.every().minute.at(\":17\").do(job)                       # Executa' a cada minuto quando o segundo é 17\n",
    "\"\"\"\n",
    "#Agenda a execução do job para a cada 10 segundos\n",
    "schedule.every(10).seconds.do(job)\n",
    "\n",
    "while True: #Loop Continuo que fica verificando se já está no momento certo de rodar a tarefa\n",
    "    schedule.run_pending()\n",
    "    time.sleep(1)"
   ]
  },
  {
   "cell_type": "markdown",
   "metadata": {},
   "source": [
    "Selenium \n",
    "https://selenium-python.readthedocs.io/\n",
    "\n",
    "pip install selenium\n",
    "\n",
    "WebDriver do Chrome \n",
    "\n",
    "https://developer.chrome.com/docs/chromedriver/downloads?hl=pt-br\n"
   ]
  },
  {
   "cell_type": "code",
   "execution_count": 25,
   "metadata": {},
   "outputs": [],
   "source": [
    "#Espaco para import \n",
    "from selenium import webdriver\n",
    "from selenium.webdriver.chrome.service import Service as ChromeService\n",
    "from pathlib import Path\n",
    "import os\n",
    "from time import sleep\n",
    "\n",
    "#Abrindo uma pagina web usando o WebDriver baixado automaticamente pelp python\n",
    "import chromedriver_autoinstaller # pip install chromedriver-autoinstaller\n",
    "\n",
    "#IMports para fazer imput em campos da pagina \n",
    "from selenium.webdriver.common.by import By\n",
    "from selenium.webdriver.common.keys import Keys\n",
    "\n",
    "#import para mudar a preferecia do navegador\n",
    "from selenium.webdriver.chrome.options import Options as ChroomeOptios\n",
    "\n",
    "\n"
   ]
  },
  {
   "cell_type": "code",
   "execution_count": 8,
   "metadata": {},
   "outputs": [],
   "source": [
    "#Abrindo uma pagina web usando o WebDriver do Chrome Baixado\n",
    "\n",
    "#Obtem diretorio do Script\n",
    "folder = Path(os.getcwd())\n",
    "\n",
    "#obtem caminho do chrome driver\n",
    "caminho_wb = folder / 'chromeDriver' / 'chromedriver.exe'\n",
    "\n",
    "#configurando o serviço do navegador\n",
    "service = ChromeService(executable_path=str(caminho_wb))\n",
    "\n",
    "#inicia navegador\n",
    "navegador = webdriver.Chrome(service=service)\n",
    "\n",
    "link = \"https://motim.me/modec-python-turma6/\"\n",
    "\n",
    "#abre uma pagina da web\n",
    "navegador.get(link)\n",
    "\n",
    "#aguarda 10 segundos para prosseguir\n",
    "sleep(10)\n",
    "\n",
    "#fecha o navegador \n",
    "navegador.quit()"
   ]
  },
  {
   "cell_type": "markdown",
   "metadata": {},
   "source": [
    "Web Driver Automatico\n",
    "\n",
    "https://pypi.org/project/chromedriver-autoinstaller/"
   ]
  },
  {
   "cell_type": "code",
   "execution_count": 12,
   "metadata": {},
   "outputs": [],
   "source": [
    "#Abrindo uma pagina web usando o WebDriver baixado automaticamente pelp python\n",
    "import chromedriver_autoinstaller # pip install chromedriver-autoinstaller\n",
    "\n",
    "#Instala automaticamente a versão correta do driver para meu navegador\n",
    "chromedriver_autoinstaller.install()\n",
    "\n",
    "navegador = webdriver.Chrome()\n",
    "\n",
    "link = \"https://rpachallenge.com/\"\n",
    "\n",
    "#abre uma pagina da web\n",
    "navegador.get(link)\n",
    "\n",
    "#aguarda 10 segundos para prosseguir\n",
    "sleep(10)\n",
    "\n",
    "#fecha o navegador \n",
    "navegador.quit()"
   ]
  },
  {
   "cell_type": "markdown",
   "metadata": {},
   "source": [
    "Preenchendo Campos do rpachallenge "
   ]
  },
  {
   "cell_type": "code",
   "execution_count": 15,
   "metadata": {},
   "outputs": [],
   "source": [
    "navegador = webdriver.Chrome()\n",
    "\n",
    "link = \"https://rpachallenge.com/\"\n",
    "\n",
    "#abre uma pagina da web\n",
    "navegador.get(link)\n",
    "\n",
    "#aguarda 10 segundos para prosseguir\n",
    "sleep(10)"
   ]
  },
  {
   "cell_type": "code",
   "execution_count": 23,
   "metadata": {},
   "outputs": [],
   "source": [
    "#Insere conteudos em campos da Web\n",
    "\n",
    "#Insere conteudo no Campo buscado\n",
    "navegador.find_element(by=By.ID, value=\"id_html_do_componente\").send_keys(\"Teste\")\n",
    "\n",
    "sleep(5)\n",
    "\n",
    "#Clica no botão do form\n",
    "navegador.find_element(by=By.XPATH, value=\"/html/body/app-root/div[2]/app-rpa1/div/div[2]/form/input\").click()\n"
   ]
  },
  {
   "cell_type": "code",
   "execution_count": 24,
   "metadata": {},
   "outputs": [],
   "source": [
    "#Clica no botão de downlod \n",
    "navegador.find_element(by=By.XPATH, value=\"/html/body/app-root/div[2]/app-rpa1/div/div[1]/div[6]/a\").click()"
   ]
  },
  {
   "cell_type": "markdown",
   "metadata": {},
   "source": [
    "Mudando a pasta de download"
   ]
  },
  {
   "cell_type": "code",
   "execution_count": 30,
   "metadata": {},
   "outputs": [],
   "source": [
    "nova_pasta_download = Path(os.getcwd()) / 'download_chrome'\n",
    "\n",
    "options = ChroomeOptios()\n",
    "\n",
    "options.add_argument(\"--headless\") #Oculta o navegador\n",
    "\n",
    "options.add_experimental_option(\"prefs\", {\n",
    "    \"download.default_directory\": str(nova_pasta_download),\n",
    "    \"download.prompt_for_download\": False,\n",
    "    \"download.directory_upgrade\": True,\n",
    "    \"safebrowsing.enabled\": True\n",
    "})\n",
    "\n",
    "navegador = webdriver.Chrome(options=options)\n",
    "\n",
    "link = \"https://rpachallenge.com/\"\n",
    "\n",
    "#abre uma pagina da web\n",
    "navegador.get(link)\n",
    "\n",
    "#aguarda 10 segundos para prosseguir\n",
    "sleep(5)\n",
    "\n",
    "#Clica no botão de downlod \n",
    "botao = navegador.find_element(by=By.XPATH, value=\"/html/body/app-root/div[2]/app-rpa1/div/div[1]/div[6]/a\")\n",
    "botao.click()\n",
    "\n",
    "sleep(3)\n",
    "\n",
    "#fehca o navegador\n",
    "navegador.quit()"
   ]
  },
  {
   "cell_type": "markdown",
   "metadata": {},
   "source": [
    "Sugesstão de atividade para praticar \n",
    "1- preencher o form abaixo \n",
    "https://docs.google.com/forms/d/e/1FAIpQLSfr_4UrXIKzGpxa9hsI-_qpdlHnid1S9C8-IWvmhBLxtYBIiQ/viewform\n",
    "\n",
    "2- preecher o form com dados de um arquivo\n"
   ]
  },
  {
   "cell_type": "markdown",
   "metadata": {},
   "source": [
    "beautifulsoup4 4.12.3\n",
    "\n",
    "pip install beautifulsoup4\n",
    "\n",
    "https://pypi.org/project/beautifulsoup4/\n"
   ]
  },
  {
   "cell_type": "code",
   "execution_count": 48,
   "metadata": {},
   "outputs": [
    {
     "name": "stdout",
     "output_type": "stream",
     "text": [
      "5,50\n",
      "5.5020999999999995\n"
     ]
    }
   ],
   "source": [
    "from bs4 import BeautifulSoup \n",
    "import requests\n",
    "\n",
    "#pagina para pegar o dado\n",
    "link = \"https://www.google.com.br/search?q=cotacao+dolar\"\n",
    "\n",
    "headers = {\"User-Agent\": \"Mozilla/5.0 (Windows NT 10.0; Win64; x64) AppleWebKit/537.36 (KHTML, like Gecko) Chrome/111.0.0.0 Safari/537.36\"} \n",
    "\n",
    "retorno = requests.get(link, headers=headers)\n",
    "\n",
    "#print(retorno.text)\n",
    "\n",
    "#Faz para html e cria a variavel do tipo BeautifulSoup\n",
    "site = BeautifulSoup(retorno.text, \"html.parser\")\n",
    "\n",
    "#print(site.find('title'))\n",
    "\n",
    "#Filtra no html a flag com o valor da cotação\n",
    "cotacao = site.find(\"span\", class_=\"SwHCTb\")\n",
    "\n",
    "#Traz a cotação em texto\n",
    "print(cotacao.get_text())\n",
    "\n",
    "#Traz a cotação em valor\n",
    "print(cotacao[\"data-value\"])"
   ]
  },
  {
   "cell_type": "markdown",
   "metadata": {},
   "source": [
    "PyAutoGUI\n",
    "\n",
    "https://pyautogui.readthedocs.io/en/latest/\n",
    "\n",
    "pip install pyautogui"
   ]
  },
  {
   "cell_type": "code",
   "execution_count": 65,
   "metadata": {},
   "outputs": [],
   "source": [
    "#Primeiro etapa é detalhar o passo a passo para executar a tarefa \n",
    "#1- ir para area de trabalho \n",
    "#2- clicar e segurar na pasta \n",
    "#3- arrastar para o lado \n",
    "\n",
    "import pyautogui\n",
    "import time\n",
    "\n",
    "\n",
    "#mostra possição do mouse\n",
    "#print(pyautogui.position())\n",
    "\n",
    "\n",
    "#pyautogui.alert(\"O codigo vai começar\")\n",
    "\n",
    "#espera 2 segundos antes do proximo passo\n",
    "time.sleep(2)\n",
    "\n",
    "#aperta as teclas windows e D ao mesmo tempo \n",
    "pyautogui.hotkey('winleft', 'd')\n",
    "\n",
    "#aperta a tecla windows que fica do lado esquerdo do teclado\n",
    "pyautogui.press('winleft')\n",
    "\n",
    "#Manda este testo \n",
    "pyautogui.write('chorme')\n",
    "\n",
    "#aperta a tecla enter\n",
    "pyautogui.press('enter')\n",
    "\n",
    "\n",
    "time.sleep(2)\n",
    "\n",
    "#posição da minha pasta > Point(x=2488, y=143)\n",
    "\n",
    "#posicao destino > Point(x=3394, y=160)\n",
    "\n",
    "#possiciona o cursor do mouse nesta posição da tela \n",
    "pyautogui.moveTo(2488, 143)\n",
    "\n",
    "time.sleep(2)\n",
    "\n",
    "#aperta a tecla do mouse e segur\n",
    "pyautogui.mouseDown()\n",
    "\n",
    "#pyautogui.moveTo(3394, 160)\n",
    "\n",
    "time.sleep(2)\n",
    "\n",
    "#solta a tecla do mnouse\n",
    "pyautogui.mouseUp()\n",
    "\n",
    "\n",
    "\n",
    "\n"
   ]
  },
  {
   "cell_type": "code",
   "execution_count": null,
   "metadata": {},
   "outputs": [],
   "source": []
  }
 ],
 "metadata": {
  "kernelspec": {
   "display_name": "base",
   "language": "python",
   "name": "python3"
  },
  "language_info": {
   "codemirror_mode": {
    "name": "ipython",
    "version": 3
   },
   "file_extension": ".py",
   "mimetype": "text/x-python",
   "name": "python",
   "nbconvert_exporter": "python",
   "pygments_lexer": "ipython3",
   "version": "3.11.7"
  }
 },
 "nbformat": 4,
 "nbformat_minor": 2
}
