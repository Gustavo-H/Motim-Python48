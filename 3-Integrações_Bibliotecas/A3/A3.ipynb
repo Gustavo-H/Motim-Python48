{
 "cells": [
  {
   "cell_type": "markdown",
   "metadata": {},
   "source": [
    "# Integração e Bibliotecas"
   ]
  },
  {
   "cell_type": "code",
   "execution_count": null,
   "metadata": {},
   "outputs": [],
   "source": [
    "# Passo 0 - Entender o desafio que você quer resolver."
   ]
  },
  {
   "cell_type": "code",
   "execution_count": null,
   "metadata": {},
   "outputs": [],
   "source": [
    "#Espaço Reservado para importação de bibliotecas\n",
    "import pandas as pd  # Para Installar o pandas > pip install pandas\n",
    "import matplotlib.pyplot as plt  \n",
    "import plotly.express as px \n",
    "import seaborn as sns\n",
    "import smtplib\n",
    "import email.message as em \n",
    "from babel.numbers import format_currency\n"
   ]
  },
  {
   "cell_type": "code",
   "execution_count": null,
   "metadata": {},
   "outputs": [],
   "source": [
    "# Passo 1 - Importar a base de dados (Pasta Vendas)\n",
    "\n",
    "vendas = pd.read_excel('dataSets/vendas.xlsx')\n",
    "display(vendas) "
   ]
  },
  {
   "cell_type": "code",
   "execution_count": null,
   "metadata": {},
   "outputs": [],
   "source": [
    "display(vendas) "
   ]
  },
  {
   "cell_type": "code",
   "execution_count": null,
   "metadata": {},
   "outputs": [],
   "source": [
    "# Passo 2 - Calcular o produto mais vendido (em quantidade)\n",
    "\n",
    "#Agrupamos pro produto e somamos todas as colunas numericas\n",
    "tb_vendas_produto_quantidade = vendas.groupby('Produto').sum(numeric_only=True)\n",
    "\n",
    "#Filtramos da tabela apenas a Colunas Index (Produto) e a Coluna Quantidade\n",
    "tb_vendas_produto_quantidade = tb_vendas_produto_quantidade[['Quantidade']]\n",
    "\n",
    "#Ordenamos nossa tabela de decrescente pela coluna Quantidade\n",
    "tb_vendas_produto_quantidade = tb_vendas_produto_quantidade.sort_values(by='Quantidade', ascending=False)\n",
    "\n",
    "tb_vendas_produto_quantidade.to_excel('tb_vendas_produto.xlsx','Vendas_Qtd_Prod')\n",
    "\n",
    "\n",
    "\n",
    "display(tb_vendas_produto_quantidade)"
   ]
  },
  {
   "cell_type": "code",
   "execution_count": null,
   "metadata": {},
   "outputs": [],
   "source": [
    "# Passo 3 - Calcular o produto mais vendido (em faturamento)\n",
    "#Primeiro criamos a coluna Faturamento \n",
    "vendas['Faturamento'] = vendas['Quantidade'] * vendas['Valor Unitário']\n",
    "\n",
    "#Agrupamos pro produto e somamos todas as colunas numericas\n",
    "tb_vendas_produto_faturamento = vendas.groupby('Produto').sum(numeric_only=True)\n",
    "\n",
    "#Filtramos da tabela apenas a Colunas Index (Produto) e a Coluna Quantidade\n",
    "tb_vendas_produto_faturamento = tb_vendas_produto_faturamento[['Faturamento']]\n",
    "\n",
    "#Ordenamos nossa tabela de decrescente pela coluna Quantidade\n",
    "tb_vendas_produto_faturamento = tb_vendas_produto_faturamento.sort_values(by='Faturamento', ascending=False)\n",
    "\n",
    "#Cria lambda para formatação de moeda \n",
    "lb_formata_real = lambda v: format_currency(v, 'BRL', locale='pt_BR')\n",
    "\n",
    "#Uso a lamba para formatar minha nova tabela\n",
    "tb_vendas_produto_faturamento_f = pd.DataFrame(tb_vendas_produto_faturamento['Faturamento'].apply(lb_formata_real).reset_index())\n",
    "\n",
    "\n",
    "\n",
    "display(tb_vendas_produto_faturamento_f)\n"
   ]
  },
  {
   "cell_type": "code",
   "execution_count": null,
   "metadata": {},
   "outputs": [],
   "source": [
    "# Passo 4 - Calcular a loja/estado que mais vendeu (em faturamento)\n",
    "#Agrupando dados por Loja\n",
    "tb_loja_faturamento = vendas.groupby('Loja').sum(numeric_only=True)\n",
    "\n",
    "#Filtramos as colunas deixando apenas Loja (Index)\n",
    "tb_loja_faturamento = tb_loja_faturamento[['Faturamento']].sort_values(by='Faturamento', ascending=False)\n",
    "\n",
    "tb_loja_faturamento\n"
   ]
  },
  {
   "cell_type": "code",
   "execution_count": null,
   "metadata": {},
   "outputs": [],
   "source": [
    "# Passo 5 - Calcular o ticket médio por loja/estadom. (Somar Valor de cada item e divide pelo total de vendas)\n",
    "#Criar a coluna Ticket Medio\n",
    "vendas['Ticket Médio'] = vendas['Valor Unitário']\n",
    "\n",
    "#Agrupar por loja e fazer a media de todos os demais \n",
    "tb_ticket_medio = vendas.groupby('Loja').mean(numeric_only=True)\n",
    "\n",
    "#Remove as demais colunas deixando apenas 'Ticket Médio' e Loja (Index)\n",
    "tb_ticket_medio = tb_ticket_medio[['Ticket Médio']].sort_values(by='Ticket Médio', ascending=False)\n",
    "\n",
    "tb_ticket_medio"
   ]
  },
  {
   "cell_type": "code",
   "execution_count": null,
   "metadata": {},
   "outputs": [],
   "source": [
    "# Passo 6 - Calcular a Quantidade de produtos Vendidos por Loja\n",
    "\n",
    "#Agrupando por produto e somando tudo\n",
    "tb_produto_vendido_loja = vendas.groupby('Loja').sum(numeric_only=True)\n",
    "\n",
    "#filtrando as colunas a serem exibidas\n",
    "tb_produto_vendido_loja = tb_produto_vendido_loja[['Quantidade', 'Faturamento']]\n",
    "\n",
    "#Ordena os dados\n",
    "tb_produto_vendido_loja = tb_produto_vendido_loja.sort_values(by='Quantidade', ascending=False)\n",
    "\n",
    "tb_produto_vendido_loja\n"
   ]
  },
  {
   "cell_type": "code",
   "execution_count": null,
   "metadata": {},
   "outputs": [],
   "source": [
    "# Passo 7 - Criar um gráfico/dashboard da loja/estado que mais vendeu (em faturamento) <Resultado do Passo 4>\n",
    "\n",
    "#Criando um grafico de barras com ploty\n",
    "grafico_px = px.bar(tb_loja_faturamento, y='Faturamento', x=tb_loja_faturamento.index)\n",
    "grafico_px.show()\n",
    "\n",
    "\n",
    "#Criando Grafico com Matplot\n",
    "\n",
    "plt.bar(tb_loja_faturamento.index, tb_loja_faturamento['Faturamento'])\n",
    "\n",
    "plt.title('Faturamento por Lojas')\n",
    "plt.xlabel('Loja')\n",
    "plt.ylabel('Faturamento em M')\n",
    "\n",
    "plt.xticks(rotation=90)\n",
    "plt.show()\n",
    "\n",
    "\"\"\"\"\n",
    "plt.figure(12,8)\n",
    "\n",
    "sns.barplot(x=tb_loja_faturamento.index, y='Faturamento', data=tb_loja_faturamento, palette='viridis')\n",
    "\n",
    "plt.title('Faturamento por Lojas')\n",
    "plt.xlabel('Loja')\n",
    "plt.ylabel('Faturamento em M')\n",
    "\n",
    "plt.tight_layout()\n",
    "\n",
    "plt.show()\n",
    "\n",
    "\"\"\""
   ]
  },
  {
   "cell_type": "code",
   "execution_count": null,
   "metadata": {},
   "outputs": [],
   "source": [
    "# Passo 8 - Enviar um e-mail para o setor responsável.  (Enviar Item 2, 3, 4 )\n",
    "\n",
    " \n",
    "corpo_email = f\"\"\"\n",
    "<p>Prezados, tudo bem?</p>\n",
    "<p>Segue Analise de Vendas</p>\n",
    "<p> <b>Produto Mais Vendido Faturamento</b> {tb_vendas_produto_faturamento_f.to_html(index=False, justify='center')} </p>\n",
    "\n",
    "\"\"\"\n",
    "\n",
    "msg = em.Message()\n",
    "msg['Subject'] = \"Teste em Python\" # Assunto do email\n",
    "\n",
    "msg['From'] = 'rotinabackup58@gmail.com' #Conta de Email que irá enviar   \n",
    "password = 'fceveunimwskylxg'    #Senha do email que enviará (Senha de app criada) \n",
    "\n",
    "msg['To'] = 'servico.backup.status@gmail.com'  #Email destino, quem vai receber   \n",
    "\n",
    "msg.add_header('Content-Type', 'text/html')\n",
    "\n",
    "msg.set_payload(corpo_email)\n",
    "\n",
    "#Faz login do Servidor do gmail e envia o email.\n",
    "s = smtplib.SMTP('smtp.gmail.com: 587')\n",
    "s.starttls()  #Ativa Criptografia TLS\n",
    "s.login(msg['From'], password)\n",
    "s.sendmail(msg['From'], [msg['To']], msg.as_string().encode('utf-8'))\n",
    "\n",
    "print('Email enviado')"
   ]
  }
 ],
 "metadata": {
  "kernelspec": {
   "display_name": "Python 3",
   "language": "python",
   "name": "python3"
  },
  "language_info": {
   "codemirror_mode": {
    "name": "ipython",
    "version": 3
   },
   "file_extension": ".py",
   "mimetype": "text/x-python",
   "name": "python",
   "nbconvert_exporter": "python",
   "pygments_lexer": "ipython3",
   "version": "3.11.7"
  }
 },
 "nbformat": 4,
 "nbformat_minor": 2
}
