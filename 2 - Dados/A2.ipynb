{
 "cells": [
  {
   "cell_type": "markdown",
   "metadata": {},
   "source": [
    "# Analise de Dados"
   ]
  },
  {
   "cell_type": "markdown",
   "metadata": {},
   "source": [
    "## POO\n",
    "Um pouco sobre classes ..."
   ]
  },
  {
   "cell_type": "code",
   "execution_count": null,
   "metadata": {},
   "outputs": [],
   "source": [
    "#Classes \n",
    "#Utilizar criar objetos;\n",
    "#Podemos Criar Instancias desta clas \n",
    "#São usadas para agrupar dados e funções, de reutilizavel  "
   ]
  },
  {
   "cell_type": "code",
   "execution_count": null,
   "metadata": {},
   "outputs": [],
   "source": [
    "#Classe funcionario com os atributos nome, data_nascimento, matricula e o metodo exibir_funcionario\n",
    "\n",
    "class Funcionario(object):\n",
    "\n",
    "    def __init__(self, nome, data_nascimento, matricula):\n",
    "        self.nome = nome\n",
    "        self.data_nascimento = data_nascimento \n",
    "        self.matricula = matricula\n",
    "\n",
    "    def exibir_funcionario(self):\n",
    "        print(f' Nome : {self.nome}, Data Nascimento: {self.data_nascimento}, Matricula =  {self.matricula}')\n",
    "   \n",
    "\n",
    "funcionario = Funcionario('Pedro', '01/01/2000', 123456)\n",
    "\n",
    "funcionario2 = Funcionario('João', '01/01/2010', 456789)\n",
    "\n",
    "\n",
    "print(funcionario.nome)\n",
    "\n",
    "funcionario.exibir_funcionario()\n",
    "funcionario2.exibir_funcionario()\n",
    "\n"
   ]
  },
  {
   "cell_type": "code",
   "execution_count": null,
   "metadata": {},
   "outputs": [],
   "source": [
    "#Faça uma classe em python chamada Retangulo, \n",
    "# esta classe deverá receber largura e altura como parametros ao ser instaciada\n",
    "# e esta mesma classe deverá ter um metodo para calcular a sua area (largura * altura)\n",
    "# de bonus o metodo de calcular perimetro\n",
    "\n",
    "#|----------------|\n",
    "#|                |\n",
    "#|________________|\n",
    "\n",
    "class Retangulo:\n",
    "    def __init__(self, largura, altura):\n",
    "        self.largura = largura\n",
    "        self.altura = altura\n",
    "\n",
    "    def calcular_area(self):\n",
    "        return self.largura * self.altura\n",
    "\n",
    "    def calcular_perimetro(self):\n",
    "        return 2 * (self.largura + self.altura)\n",
    "\n",
    "retangulo = Retangulo(3,10)\n",
    "\n",
    "print(retangulo.calcular_area())\n",
    "\n",
    "print(retangulo.calcular_perimetro())"
   ]
  },
  {
   "cell_type": "code",
   "execution_count": null,
   "metadata": {},
   "outputs": [],
   "source": []
  },
  {
   "cell_type": "markdown",
   "metadata": {},
   "source": [
    "## Analise de Dados"
   ]
  },
  {
   "cell_type": "markdown",
   "metadata": {},
   "source": [
    "O que é o Cientista de Dados ? \n",
    "Um cientista de dados é um profissional que coleta, analisa e interpreta grandes volumes de dados para obter insights e tomar decisões informadas.\n"
   ]
  },
  {
   "cell_type": "code",
   "execution_count": null,
   "metadata": {},
   "outputs": [],
   "source": [
    "#Fazendo o primeiro import com pandas \n",
    "import pandas as pd \n",
    "\n",
    "dados = pd.read_csv(\"DadosTestes/fifa.csv\")\n",
    "display(dados)"
   ]
  },
  {
   "cell_type": "code",
   "execution_count": null,
   "metadata": {},
   "outputs": [],
   "source": [
    "#Traz um numero das primeiras linhas \n",
    "dados.head(5)"
   ]
  },
  {
   "cell_type": "code",
   "execution_count": null,
   "metadata": {},
   "outputs": [],
   "source": [
    "#traz um numero das ultima linhas \n",
    "dados.tail(2)"
   ]
  },
  {
   "cell_type": "code",
   "execution_count": null,
   "metadata": {},
   "outputs": [],
   "source": [
    "#Imprime o nome das colunas (Header do Df)\n",
    "dados.columns"
   ]
  },
  {
   "cell_type": "code",
   "execution_count": null,
   "metadata": {},
   "outputs": [],
   "source": [
    "#Mostra os indices\n",
    "dados.index"
   ]
  },
  {
   "cell_type": "code",
   "execution_count": null,
   "metadata": {},
   "outputs": [],
   "source": [
    "#Exibe apenas uma coluna\n",
    "dados['Name']"
   ]
  },
  {
   "cell_type": "code",
   "execution_count": null,
   "metadata": {},
   "outputs": [],
   "source": [
    "#Filtramos nosso data frame para trazer apenas estas colunas\n",
    "dados[['Name', 'Nationality', 'Age']]"
   ]
  },
  {
   "cell_type": "code",
   "execution_count": null,
   "metadata": {},
   "outputs": [],
   "source": [
    "#Traz p indice de 0 ao 4\n",
    "dados.iloc[0,4]"
   ]
  },
  {
   "cell_type": "code",
   "execution_count": null,
   "metadata": {},
   "outputs": [],
   "source": [
    "#Filtra as colunas por Nacionalidade \n",
    "dados.loc[ dados['Nationality'] == 'Brazil']"
   ]
  },
  {
   "cell_type": "code",
   "execution_count": null,
   "metadata": {},
   "outputs": [],
   "source": [
    "dados.loc[ dados['Nationality'] == 'Argentina']"
   ]
  },
  {
   "cell_type": "code",
   "execution_count": null,
   "metadata": {},
   "outputs": [],
   "source": [
    "#Filtra as colunas por Nacionalidade \n",
    "dados.loc[ dados['Nationality'] == 'Spain']"
   ]
  },
  {
   "cell_type": "code",
   "execution_count": null,
   "metadata": {},
   "outputs": [],
   "source": [
    "#Filtra as colunas por Nacionalidade \n",
    "dados.loc[ dados['Age'] == 21]"
   ]
  },
  {
   "cell_type": "code",
   "execution_count": null,
   "metadata": {},
   "outputs": [],
   "source": [
    "#Filtra todos os registros por Idade\n",
    "dados.loc[ dados['Age'] == 41]"
   ]
  },
  {
   "cell_type": "code",
   "execution_count": null,
   "metadata": {},
   "outputs": [],
   "source": [
    "#Orderna os dados por ordem alfabetica\n",
    "dados.sort_values('Name')"
   ]
  },
  {
   "cell_type": "code",
   "execution_count": null,
   "metadata": {},
   "outputs": [],
   "source": [
    "#Ordena os dados por Idade Crescente \n",
    "dados.sort_values('Age')"
   ]
  },
  {
   "cell_type": "code",
   "execution_count": null,
   "metadata": {},
   "outputs": [],
   "source": [
    "#Ordena os dados por Idade Crescente \n",
    "dados.sort_values(['Name', 'Age'])"
   ]
  },
  {
   "cell_type": "code",
   "execution_count": null,
   "metadata": {},
   "outputs": [],
   "source": [
    "#Adiciona uma coluna nova e faz calculo com as novas colunas\n",
    "dados.columns\n",
    "dados['Total'] = dados['Acceleration'] + dados['Agility'] + dados['Reactions']\n",
    "display(dados)"
   ]
  },
  {
   "cell_type": "code",
   "execution_count": null,
   "metadata": {},
   "outputs": [],
   "source": [
    "#Fitra do dados principais apenas estas colunas\n",
    "dados_filtrados = dados[['Name', 'Total']]\n",
    "\n",
    "dados_filtrados.sort_values('Total', ascending=False)\n",
    "\n",
    "dados_filtrados"
   ]
  },
  {
   "cell_type": "markdown",
   "metadata": {},
   "source": [
    "### Expotando dados para um novo arquivo"
   ]
  },
  {
   "cell_type": "code",
   "execution_count": null,
   "metadata": {},
   "outputs": [],
   "source": [
    "#Exportando para csv\n",
    "dados_filtrados.to_csv(\"dados_filtrados.csv\")"
   ]
  },
  {
   "cell_type": "code",
   "execution_count": null,
   "metadata": {},
   "outputs": [],
   "source": [
    "#Exportando para csv sem a coluna index\n",
    "dados_filtrados.to_csv(\"dados_filtrados_S_index.csv\", index=False)"
   ]
  },
  {
   "cell_type": "code",
   "execution_count": null,
   "metadata": {},
   "outputs": [],
   "source": [
    "#Exportando para excel sem a coluna index\n",
    "dados_filtrados.to_excel(\"dados_filtrados_S_index.xlsx\", index=False)"
   ]
  },
  {
   "cell_type": "code",
   "execution_count": null,
   "metadata": {},
   "outputs": [],
   "source": [
    "#Exportando para txt sem a coluna index\n",
    "dados_filtrados.to_csv(\"dados_filtrados.txt\", index=False, sep='\\t')"
   ]
  },
  {
   "cell_type": "markdown",
   "metadata": {},
   "source": [
    "### Explorando o DataSet Melborn"
   ]
  },
  {
   "cell_type": "code",
   "execution_count": null,
   "metadata": {},
   "outputs": [],
   "source": [
    "#Explorando um novo dataSet \n",
    "import pandas as pd \n",
    "\n",
    "\n",
    "df = pd.read_csv('DadosTestes/melb_data.csv')"
   ]
  },
  {
   "cell_type": "code",
   "execution_count": null,
   "metadata": {},
   "outputs": [],
   "source": [
    "df.columns"
   ]
  },
  {
   "cell_type": "code",
   "execution_count": null,
   "metadata": {},
   "outputs": [],
   "source": [
    "#Lista todas as casa de 3 quartos ou mais\n",
    "filter1 = df.loc[df['Rooms'] >= 3]\n",
    "filter1"
   ]
  },
  {
   "cell_type": "code",
   "execution_count": null,
   "metadata": {},
   "outputs": [],
   "source": [
    "#Lista todas as casa de 3 quartos ou mais e do tipo h\n",
    "filter2 = df.loc[(df['Rooms'] >= 3) & (df['Type'] == 'h')]\n",
    "filter2"
   ]
  },
  {
   "cell_type": "code",
   "execution_count": null,
   "metadata": {},
   "outputs": [],
   "source": [
    "#Lista todas as casa de 3 quartos ou mais e do tipo h \n",
    "filter2 = df.loc[(df['Rooms'] >= 3) & (df['Type'] == 'h') & (df['Price'] == 1000000)]\n",
    "filter2 "
   ]
  },
  {
   "cell_type": "code",
   "execution_count": null,
   "metadata": {},
   "outputs": [],
   "source": [
    "#Localizei todas as vendas do Nelson\n",
    "df.loc[df['SellerG'] == 'Nelson'] "
   ]
  },
  {
   "cell_type": "code",
   "execution_count": null,
   "metadata": {},
   "outputs": [],
   "source": [
    "#Localizei todas as vendas do Nelson e altera o seu nome\n",
    "df.loc[df['SellerG'] == 'Nelson', 'SellerG'] = 'Nelson Atualizado' \n",
    "df\n"
   ]
  },
  {
   "cell_type": "code",
   "execution_count": null,
   "metadata": {},
   "outputs": [],
   "source": [
    "#Somando as vendas de cada vendedor e listando as 10 maiores vendas em preco\n",
    "df_vendedor = df.groupby(['SellerG']).sum(numeric_only=True)\n",
    "\n",
    "df_top_10 = df_vendedor.sort_values('Price', ascending=False).head(10)\n",
    "\n",
    "df_top_10"
   ]
  },
  {
   "cell_type": "code",
   "execution_count": null,
   "metadata": {},
   "outputs": [],
   "source": [
    "#Somando as vendas de cada vendedor e listando as 10 maiores vendas em numero de quartos\n",
    "df_vendedor = df.groupby(['SellerG']).sum(numeric_only=True)\n",
    "\n",
    "df_top_10 = df_vendedor.sort_values('Rooms', ascending=False).head(10)\n",
    "\n",
    "df_top_10"
   ]
  },
  {
   "cell_type": "markdown",
   "metadata": {},
   "source": [
    "### Explorando o Numpy"
   ]
  },
  {
   "cell_type": "code",
   "execution_count": null,
   "metadata": {},
   "outputs": [],
   "source": [
    "#Importando bibliotecas\n",
    "import numpy as np\n",
    "import sys\n"
   ]
  },
  {
   "cell_type": "code",
   "execution_count": null,
   "metadata": {},
   "outputs": [],
   "source": [
    "#Criando um array comum e o array do numpy \n",
    "a = [1,2,3,4,5]\n",
    "b = np.array([1,2,3,4,5])\n",
    "\n",
    "print(a)\n",
    "print(b)"
   ]
  },
  {
   "cell_type": "code",
   "execution_count": null,
   "metadata": {},
   "outputs": [],
   "source": [
    "#Verificando a difenrença de tamanhos entre ambos\n",
    "print(sys.getsizeof(a))\n",
    "\n",
    "print(b.nbytes)"
   ]
  },
  {
   "cell_type": "code",
   "execution_count": null,
   "metadata": {},
   "outputs": [],
   "source": [
    "#Array 1 D\n",
    "d1 = np.array([1,2,3,4,5])\n",
    "\n",
    "print(d1)\n",
    "\n",
    "\n",
    "d1.shape"
   ]
  },
  {
   "cell_type": "code",
   "execution_count": null,
   "metadata": {},
   "outputs": [],
   "source": [
    "\n",
    "d2 = np.array([[1,2,3,4,5], [6,7,8,9,10]])\n",
    "\n",
    "print(d2)\n",
    "\n",
    "d2.shape"
   ]
  },
  {
   "cell_type": "code",
   "execution_count": null,
   "metadata": {},
   "outputs": [],
   "source": [
    "#Arrau 2d\n",
    "d2 = np.array([[1,2,3,4,5], [6,7,8,9,10]])\n",
    "\n",
    "print(d2)\n",
    "\n",
    "d2.shape"
   ]
  },
  {
   "cell_type": "code",
   "execution_count": null,
   "metadata": {},
   "outputs": [],
   "source": [
    "#array 3D\n",
    "d3 = np.array([[[1,2],[3,4],[5,6]]])\n",
    "\n",
    "print(d3)\n",
    "\n",
    "d3.shape"
   ]
  },
  {
   "cell_type": "code",
   "execution_count": null,
   "metadata": {},
   "outputs": [],
   "source": []
  },
  {
   "cell_type": "markdown",
   "metadata": {},
   "source": [
    "### Explorando o matplot_lib"
   ]
  },
  {
   "cell_type": "code",
   "execution_count": null,
   "metadata": {},
   "outputs": [],
   "source": [
    "import matplotlib.pyplot as plt\n",
    "import pandas as pd\n",
    "import numpy as np\n",
    "\n",
    "gas = pd.read_csv('DadosTestes/gas_prices.csv')\n",
    "\n",
    "gas"
   ]
  },
  {
   "cell_type": "code",
   "execution_count": null,
   "metadata": {},
   "outputs": [],
   "source": [
    "#Plotando Preco de combustivel por ano de um pais\n",
    "plt.plot(gas['Year'], gas['Australia'])\n",
    "plt.show()"
   ]
  },
  {
   "cell_type": "code",
   "execution_count": null,
   "metadata": {},
   "outputs": [],
   "source": [
    "#Plotando Preco de combustivel por ano de alguns paises\n",
    "plt.plot(gas['Year'], gas['Australia'])\n",
    "plt.plot(gas['Year'], gas['Italy'])\n",
    "plt.plot(gas['Year'], gas['USA'])\n",
    "plt.show()"
   ]
  },
  {
   "cell_type": "code",
   "execution_count": null,
   "metadata": {},
   "outputs": [],
   "source": [
    "#Colocando Flags no nosso Grafico \n",
    "\"\"\"\n",
    "r = Cor \n",
    ". = Pontilhado\n",
    "- = Linha\n",
    "\"\"\"\n",
    "\n",
    "plt.title(\"Preço do Combustivel em US$\")\n",
    "\n",
    "plt.plot(gas['Year'], gas['Australia'],'r.-', label='Australia') \n",
    "plt.plot(gas['Year'], gas['Italy'], 'y.-', label='Italy')\n",
    "plt.plot(gas['Year'], gas['USA'], 'b.-', label= 'USA')\n",
    "plt.plot(gas['Year'], gas['Japan'], 'g.-', label= 'Japan')\n",
    "\n",
    "\n",
    "plt.xticks(gas['Year'][::2])\n",
    "\n",
    "plt.legend()\n",
    "plt.show()"
   ]
  },
  {
   "cell_type": "code",
   "execution_count": null,
   "metadata": {},
   "outputs": [],
   "source": [
    "#Colocando Flags no nosso Grafico \n",
    "\"\"\"\n",
    "r = Cor \n",
    ". = Pontilhado\n",
    "- = Linha\n",
    "\"\"\"\n",
    "\n",
    "list_country = ['Australia', 'Italy', 'USA', 'Japan', 'France', 'Germany']\n",
    "\n",
    "for country in gas:\n",
    "    if(country in list_country):\n",
    "        plt.plot(gas['Year'], gas[country], label= country)\n",
    "        \n",
    "plt.title(\"Preço do Combustivel em US$\")\n",
    "\n",
    "plt.ylabel('US$')\n",
    "plt.xticks(gas['Year'][::2])\n",
    "\n",
    "plt.legend()\n",
    "\n",
    "\n",
    "plt.savefig('preco_por_ano.png')\n",
    "\n",
    "plt.show()\n",
    "\n"
   ]
  },
  {
   "cell_type": "code",
   "execution_count": null,
   "metadata": {},
   "outputs": [],
   "source": []
  }
 ],
 "metadata": {
  "kernelspec": {
   "display_name": "Python 3",
   "language": "python",
   "name": "python3"
  },
  "language_info": {
   "codemirror_mode": {
    "name": "ipython",
    "version": 3
   },
   "file_extension": ".py",
   "mimetype": "text/x-python",
   "name": "python",
   "nbconvert_exporter": "python",
   "pygments_lexer": "ipython3",
   "version": "3.11.7"
  }
 },
 "nbformat": 4,
 "nbformat_minor": 2
}
