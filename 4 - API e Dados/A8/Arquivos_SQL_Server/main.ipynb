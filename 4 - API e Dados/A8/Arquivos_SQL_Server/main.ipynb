{
 "cells": [
  {
   "cell_type": "markdown",
   "metadata": {},
   "source": [
    "### Neste arquivo veremos como inserir e recuperar arquivos no SQL Server \n"
   ]
  },
  {
   "cell_type": "code",
   "execution_count": 9,
   "metadata": {},
   "outputs": [],
   "source": [
    "import pyodbc\n",
    "import db_connection as dbcon\n",
    "import os"
   ]
  },
  {
   "cell_type": "code",
   "execution_count": 10,
   "metadata": {},
   "outputs": [],
   "source": [
    "#Cria Query que cria tabela \n",
    "create_table_sql = \"\"\"\n",
    "    DROP TABLE IF EXISTS TB_ARQUIVOS\n",
    "\n",
    "    CREATE TABLE TB_ARQUIVOS (\n",
    "    Id INT PRIMARY KEY IDENTITY(1,1),\n",
    "    NomeArquivo NVARCHAR(255) NOT NULL,\n",
    "    ConteudoArquivo VARBINARY(MAX) NOT NULL\n",
    ")\n",
    "\"\"\"\n"
   ]
  },
  {
   "cell_type": "code",
   "execution_count": 11,
   "metadata": {},
   "outputs": [
    {
     "name": "stdout",
     "output_type": "stream",
     "text": [
      "Conexão estabelecida com sucesso.\n"
     ]
    }
   ],
   "source": [
    "#Instacia nossa classe de conexão\n",
    "sql_con = dbcon.SQLServerConnection()\n",
    "sql_con.connect()\n",
    "cursor = sql_con.connection.cursor()"
   ]
  },
  {
   "cell_type": "code",
   "execution_count": 17,
   "metadata": {},
   "outputs": [
    {
     "name": "stdout",
     "output_type": "stream",
     "text": [
      "Conexão fechada.\n"
     ]
    }
   ],
   "source": [
    "#executa query no banco de dados\n",
    "cursor.execute(create_table_sql)\n",
    "cursor.commit()\n",
    "\n",
    "cursor.close()\n",
    "sql_con.disconnect()"
   ]
  },
  {
   "cell_type": "code",
   "execution_count": 14,
   "metadata": {},
   "outputs": [],
   "source": [
    "#Cria variaveis de path das pastas\n",
    "arquivos_to_sql = './arquivos_to_sql/'\n",
    "\n",
    "arquivos_from_sql = './arquivos_from_sql/'"
   ]
  },
  {
   "cell_type": "code",
   "execution_count": 15,
   "metadata": {},
   "outputs": [],
   "source": [
    "# Função para abrir arquivos e devolver o conteudo em Byte\n",
    "def read_file(file_path):\n",
    "    #Abre arquivos em modo de leitura de bytes \n",
    "    with open(file_path, 'rb') as file:\n",
    "        return file.read()"
   ]
  },
  {
   "cell_type": "code",
   "execution_count": 18,
   "metadata": {},
   "outputs": [
    {
     "name": "stdout",
     "output_type": "stream",
     "text": [
      "Conexão estabelecida com sucesso.\n",
      "Conexão fechada.\n"
     ]
    }
   ],
   "source": [
    "#Pega cada arquivos da pasta e insere no banco de dados\n",
    "\n",
    "sql_con.connect()\n",
    "cursor = sql_con.connection.cursor()\n",
    "\n",
    "for file_name in os.listdir(arquivos_to_sql):\n",
    "    file_path = os.path.join(arquivos_to_sql, file_name)\n",
    "    file_content = read_file(file_path)\n",
    "\n",
    "    query_insert = \"\"\"\n",
    "    INSERT INTO TB_ARQUIVOS (NomeArquivo, ConteudoArquivo)\n",
    "    VALUES(?,?)    \n",
    "    \"\"\"\n",
    "\n",
    "    cursor.execute(query_insert, (file_name, file_content))\n",
    "\n",
    "#Confirma os inserts\n",
    "cursor.commit()\n",
    "\n",
    "\n",
    "#Fecha conexão\n",
    "cursor.close()\n",
    "sql_con.disconnect()"
   ]
  },
  {
   "cell_type": "code",
   "execution_count": 21,
   "metadata": {},
   "outputs": [
    {
     "name": "stdout",
     "output_type": "stream",
     "text": [
      "Conexão estabelecida com sucesso.\n",
      "Conexão fechada.\n"
     ]
    }
   ],
   "source": [
    "#Abre conexão com o Banco\n",
    "sql_con.connect()\n",
    "cursor = sql_con.connection.cursor()\n",
    "\n",
    "\n",
    "query = \"SELECT NomeArquivo, ConteudoArquivo FROM TB_ARQUIVOS\"\n",
    "\n",
    "cursor.execute(query)\n",
    "\n",
    "#Para cada registro encontado será um arquivo\n",
    "for row in cursor.fetchall():\n",
    "    file_name = row.NomeArquivo\n",
    "    file_content = row.ConteudoArquivo\n",
    "\n",
    "    #print(file_name)\n",
    "    #print(file_content)\n",
    "\n",
    "    #Abre arquivos em modo de escrita de bytes \n",
    "    with open(os.path.join(arquivos_from_sql, file_name), 'wb') as file:\n",
    "        file.write(file_content)\n",
    "\n",
    "\n",
    "#Fecha conexão\n",
    "cursor.close()\n",
    "sql_con.disconnect()"
   ]
  }
 ],
 "metadata": {
  "kernelspec": {
   "display_name": "base",
   "language": "python",
   "name": "python3"
  },
  "language_info": {
   "codemirror_mode": {
    "name": "ipython",
    "version": 3
   },
   "file_extension": ".py",
   "mimetype": "text/x-python",
   "name": "python",
   "nbconvert_exporter": "python",
   "pygments_lexer": "ipython3",
   "version": "3.11.7"
  }
 },
 "nbformat": 4,
 "nbformat_minor": 2
}
