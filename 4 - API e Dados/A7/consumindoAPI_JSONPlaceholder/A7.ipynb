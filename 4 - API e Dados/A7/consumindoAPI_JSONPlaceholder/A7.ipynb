{
 "cells": [
  {
   "cell_type": "code",
   "execution_count": 50,
   "metadata": {},
   "outputs": [],
   "source": [
    "#Espaco para imports\n",
    "import requests #Pip install requests ou no codigo > !Pip install requests\n"
   ]
  },
  {
   "cell_type": "code",
   "execution_count": 51,
   "metadata": {},
   "outputs": [],
   "source": [
    "#Cria varivel com a URL da API\n",
    "base_url = \"https://jsonplaceholder.typicode.com\""
   ]
  },
  {
   "cell_type": "code",
   "execution_count": 52,
   "metadata": {},
   "outputs": [],
   "source": [
    "# Função para obter todos os posts\n",
    "def get_posts():\n",
    "    response = requests.get(f\"{base_url}/posts\")\n",
    "    if 200 >= response.status_code < 299:  #Esta forma de usar o if funciona igual a > response.status_code >= 200 & response.status_code <= 299\n",
    "        return response.json()\n",
    "    else:\n",
    "        print(f\"Erro ao obter posts: {response.status_code}\")\n",
    "        return None\n"
   ]
  },
  {
   "cell_type": "code",
   "execution_count": 53,
   "metadata": {},
   "outputs": [],
   "source": [
    "# Função para obter um post por ID\n",
    "def get_post(post_id):\n",
    "    response = requests.get(f\"{base_url}/posts/{post_id}\")\n",
    "    if 200 >= response.status_code < 299:  #Esta forma de usar o if funciona igual a > response.status_code >= 200 & response.status_code <= 299\n",
    "        return response.json()\n",
    "    else:\n",
    "        print(f\"Erro ao obter o post: {response.status_code}\")\n",
    "        return None\n"
   ]
  },
  {
   "cell_type": "code",
   "execution_count": 54,
   "metadata": {},
   "outputs": [],
   "source": [
    "# Função para criar um novo post\n",
    "def create_post(title, body, user_id):\n",
    "    new_post = {\n",
    "        \"title\": title,\n",
    "        \"body\": body,\n",
    "        \"userId\": user_id\n",
    "    }\n",
    "    response = requests.post(f\"{base_url}/posts\", json=new_post)\n",
    "    if response.status_code == 201:  #201 status para created\n",
    "        return response.json()\n",
    "    else:\n",
    "        print(f\"Erro ao criar o post: {response.status_code}\")\n",
    "        return None"
   ]
  },
  {
   "cell_type": "code",
   "execution_count": 55,
   "metadata": {},
   "outputs": [],
   "source": [
    "# Função para atualizar um post existente\n",
    "def update_post(post_id, title, body, user_id):\n",
    "    updated_post = {\n",
    "        \"title\": title,\n",
    "        \"body\": body,\n",
    "        \"userId\": user_id\n",
    "    }\n",
    "    response = requests.put(f\"{base_url}/posts/{post_id}\", json=updated_post)\n",
    "    if 200 >= response.status_code < 299:  #Esta forma de usar o if funciona igual a => response.status_code >= 200 & response.status_code <= 299\n",
    "        return response.json()\n",
    "    else:\n",
    "        print(f\"Erro ao atualizar o post: {response.status_code}\")\n",
    "        return None"
   ]
  },
  {
   "cell_type": "code",
   "execution_count": 56,
   "metadata": {},
   "outputs": [],
   "source": [
    "# Função para deletar um post por ID\n",
    "def delete_post(post_id):\n",
    "    response = requests.delete(f\"{base_url}/posts/{post_id}\")\n",
    "    if response.status_code == 200:\n",
    "        return True\n",
    "    else:\n",
    "        print(f\"Erro ao deletar o post: {response.status_code}\")\n",
    "        return False\n"
   ]
  },
  {
   "cell_type": "code",
   "execution_count": 60,
   "metadata": {},
   "outputs": [
    {
     "name": "stdout",
     "output_type": "stream",
     "text": [
      "Posts obtidos:\n",
      "{'userId': 1, 'id': 1, 'title': 'sunt aut facere repellat provident occaecati excepturi optio reprehenderit', 'body': 'quia et suscipit\\nsuscipit recusandae consequuntur expedita et cum\\nreprehenderit molestiae ut ut quas totam\\nnostrum rerum est autem sunt rem eveniet architecto'}\n",
      "{'userId': 1, 'id': 2, 'title': 'qui est esse', 'body': 'est rerum tempore vitae\\nsequi sint nihil reprehenderit dolor beatae ea dolores neque\\nfugiat blanditiis voluptate porro vel nihil molestiae ut reiciendis\\nqui aperiam non debitis possimus qui neque nisi nulla'}\n",
      "{'userId': 1, 'id': 3, 'title': 'ea molestias quasi exercitationem repellat qui ipsa sit aut', 'body': 'et iusto sed quo iure\\nvoluptatem occaecati omnis eligendi aut ad\\nvoluptatem doloribus vel accusantium quis pariatur\\nmolestiae porro eius odio et labore et velit aut'}\n",
      "{'userId': 1, 'id': 4, 'title': 'eum et est occaecati', 'body': 'ullam et saepe reiciendis voluptatem adipisci\\nsit amet autem assumenda provident rerum culpa\\nquis hic commodi nesciunt rem tenetur doloremque ipsam iure\\nquis sunt voluptatem rerum illo velit'}\n",
      "{'userId': 1, 'id': 5, 'title': 'nesciunt quas odio', 'body': 'repudiandae veniam quaerat sunt sed\\nalias aut fugiat sit autem sed est\\nvoluptatem omnis possimus esse voluptatibus quis\\nest aut tenetur dolor neque'}\n"
     ]
    }
   ],
   "source": [
    "# Obter todos os posts\n",
    "posts = get_posts()\n",
    "if posts:\n",
    "    print(\"Posts obtidos:\")\n",
    "    for post in posts[:5]:  # Imprime apenas os 5 primeiros posts\n",
    "        print(post)\n",
    "    "
   ]
  },
  {
   "cell_type": "code",
   "execution_count": 62,
   "metadata": {},
   "outputs": [
    {
     "name": "stdout",
     "output_type": "stream",
     "text": [
      "\n",
      "Post 1 obtido:\n",
      "{'userId': 1, 'id': 1, 'title': 'sunt aut facere repellat provident occaecati excepturi optio reprehenderit', 'body': 'quia et suscipit\\nsuscipit recusandae consequuntur expedita et cum\\nreprehenderit molestiae ut ut quas totam\\nnostrum rerum est autem sunt rem eveniet architecto'}\n"
     ]
    }
   ],
   "source": [
    "# Obter um post específico\n",
    "post_id = 1\n",
    "post = get_post(post_id)\n",
    "if post:\n",
    "    print(f\"\\nPost {post_id} obtido:\")\n",
    "    print(post)\n"
   ]
  },
  {
   "cell_type": "code",
   "execution_count": 63,
   "metadata": {},
   "outputs": [
    {
     "name": "stdout",
     "output_type": "stream",
     "text": [
      "\n",
      "Novo post criado:\n",
      "{'title': 'Novo Post', 'body': 'Este é o conteúdo do novo post', 'userId': 1, 'id': 101}\n"
     ]
    }
   ],
   "source": [
    "# Criar um novo post\n",
    "new_post = create_post(\"Novo Post\", \"Este é o conteúdo do novo post\", 1)\n",
    "if new_post:\n",
    "    print(\"\\nNovo post criado:\")\n",
    "    print(new_post)\n",
    "   "
   ]
  },
  {
   "cell_type": "code",
   "execution_count": 64,
   "metadata": {},
   "outputs": [
    {
     "name": "stdout",
     "output_type": "stream",
     "text": [
      "\n",
      "Post atualizado:\n",
      "{'title': 'Post Atualizado', 'body': 'Este é o conteúdo atualizado do post', 'userId': 1, 'id': 1}\n"
     ]
    }
   ],
   "source": [
    "# Atualizar um post existente\n",
    "updated_post = update_post(1, \"Post Atualizado\", \"Este é o conteúdo atualizado do post\", 1)\n",
    "if updated_post:\n",
    "    print(\"\\nPost atualizado:\")\n",
    "    print(updated_post)"
   ]
  },
  {
   "cell_type": "code",
   "execution_count": 65,
   "metadata": {},
   "outputs": [
    {
     "name": "stdout",
     "output_type": "stream",
     "text": [
      "\n",
      "Post deletado com sucesso.\n"
     ]
    }
   ],
   "source": [
    "# Deletar um post\n",
    "if delete_post(1):\n",
    "    print(\"\\nPost deletado com sucesso.\")"
   ]
  }
 ],
 "metadata": {
  "kernelspec": {
   "display_name": "base",
   "language": "python",
   "name": "python3"
  },
  "language_info": {
   "codemirror_mode": {
    "name": "ipython",
    "version": 3
   },
   "file_extension": ".py",
   "mimetype": "text/x-python",
   "name": "python",
   "nbconvert_exporter": "python",
   "pygments_lexer": "ipython3",
   "version": "3.11.7"
  }
 },
 "nbformat": 4,
 "nbformat_minor": 2
}
